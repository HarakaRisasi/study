{
 "cells": [
  {
   "cell_type": "code",
   "id": "initial_id",
   "metadata": {
    "collapsed": true,
    "ExecuteTime": {
     "end_time": "2024-11-16T19:34:23.844766Z",
     "start_time": "2024-11-16T19:34:23.836702Z"
    }
   },
   "source": [
    "def calculate_trade_profit(\n",
    "    buy_price,\n",
    "    sell_price,\n",
    "    quantity,\n",
    "    broker_commission_rate=0.001,  # 0.1% комиссия брокера\n",
    "    monthly_account_fee=250,  # фиксированная плата за обслуживание счета (руб.)\n",
    "    tax_rate=0.13,  # НДФЛ (13%)\n",
    "    withdrawal_fee=30,  # комиссия за вывод средств (фиксированная, руб.)\n",
    "    days_in_month=20  # количество торговых дней в месяце\n",
    "):\n",
    "    \"\"\"\n",
    "    Рассчитывает итоговую прибыль от сделки с учетом всех комиссий, налогов и платы за вывод средств.\n",
    "    \n",
    "    :param buy_price: Цена покупки одной акции (руб.)\n",
    "    :param sell_price: Цена продажи одной акции (руб.)\n",
    "    :param quantity: Количество акций\n",
    "    :param broker_commission_rate: Комиссия брокера (доля от суммы сделки)\n",
    "    :param monthly_account_fee: Плата за обслуживание счета (руб. в месяц)\n",
    "    :param tax_rate: Ставка НДФЛ (доля)\n",
    "    :param withdrawal_fee: Комиссия за вывод средств (руб.)\n",
    "    :param days_in_month: Количество торговых дней в месяце\n",
    "    :return: Итоговая прибыль (руб.)\n",
    "    \"\"\"\n",
    "    # Суммы сделок\n",
    "    buy_total = buy_price * quantity\n",
    "    sell_total = sell_price * quantity\n",
    "    \n",
    "    # Комиссии брокера\n",
    "    buy_commission = buy_total * broker_commission_rate\n",
    "    sell_commission = sell_total * broker_commission_rate\n",
    "    total_commission = buy_commission + sell_commission\n",
    "    \n",
    "    # Прибыль до налогов\n",
    "    gross_profit = sell_total - buy_total - total_commission\n",
    "    \n",
    "    # Налог на прибыль\n",
    "    tax = max(0, gross_profit * tax_rate)\n",
    "    \n",
    "    # Ежемесячные расходы\n",
    "    daily_account_fee = monthly_account_fee / days_in_month\n",
    "    total_account_fee = daily_account_fee * days_in_month\n",
    "    \n",
    "    # Итоговая прибыль\n",
    "    net_profit = gross_profit - tax - total_account_fee - withdrawal_fee\n",
    "    \n",
    "    # Подробный вывод\n",
    "    return {\n",
    "        \"gross_profit\": gross_profit,\n",
    "        \"total_commission\": total_commission,\n",
    "        \"tax\": tax,\n",
    "        \"monthly_account_fee\": total_account_fee,\n",
    "        \"withdrawal_fee\": withdrawal_fee,\n",
    "        \"net_profit\": net_profit\n",
    "    }\n",
    "\n",
    "\n",
    "# Пример использования\n",
    "trade_result = calculate_trade_profit(\n",
    "    buy_price= 243.83,  # Цена покупки акции\n",
    "    sell_price=252.24,  # Цена продажи акции\n",
    "    quantity=1000  # Количество акций\n",
    ")\n",
    "\n",
    "# Вывод результата\n",
    "print(\"Результаты расчета сделки:\")\n",
    "for key, value in trade_result.items():\n",
    "    print(f\"{key}: {value:.2f} руб.\")\n"
   ],
   "outputs": [
    {
     "name": "stdout",
     "output_type": "stream",
     "text": [
      "Результаты расчета сделки:\n",
      "gross_profit: 7913.93 руб.\n",
      "total_commission: 496.07 руб.\n",
      "tax: 1028.81 руб.\n",
      "monthly_account_fee: 250.00 руб.\n",
      "withdrawal_fee: 30.00 руб.\n",
      "net_profit: 6605.12 руб.\n"
     ]
    }
   ],
   "execution_count": 2
  }
 ],
 "metadata": {
  "kernelspec": {
   "display_name": "Python 3",
   "language": "python",
   "name": "python3"
  },
  "language_info": {
   "codemirror_mode": {
    "name": "ipython",
    "version": 2
   },
   "file_extension": ".py",
   "mimetype": "text/x-python",
   "name": "python",
   "nbconvert_exporter": "python",
   "pygments_lexer": "ipython2",
   "version": "2.7.6"
  }
 },
 "nbformat": 4,
 "nbformat_minor": 5
}
