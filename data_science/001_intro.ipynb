{
 "cells": [
  {
   "cell_type": "code",
   "id": "initial_id",
   "metadata": {
    "collapsed": true,
    "ExecuteTime": {
     "end_time": "2024-11-12T20:38:39.710804Z",
     "start_time": "2024-11-12T20:38:39.704703Z"
    }
   },
   "source": [
    "# Список словарей, где каждый словарь представляет пользователя с его id и именем\n",
    "users = [\n",
    "    {\"id\": 0, \"name\": \"Александр\"},\n",
    "    {\"id\": 1, \"name\": \"Марина\"},\n",
    "    {\"id\": 2, \"name\": \"Иван\"},\n",
    "    {\"id\": 3, \"name\": \"Елена\"},\n",
    "    {\"id\": 4, \"name\": \"Дмитрий\"},\n",
    "    {\"id\": 5, \"name\": \"Ольга\"},\n",
    "    {\"id\": 6, \"name\": \"Николай\"},\n",
    "    {\"id\": 7, \"name\": \"Светлана\"},\n",
    "    {\"id\": 8, \"name\": \"Сергей\"},\n",
    "    {\"id\": 9, \"name\": \"Татьяна\"}\n",
    "]\n",
    "\n",
    "# Список кортежей, где каждый кортеж представляет пару друзей\n",
    "friend_pairs = [(0, 1), (0, 2), (1, 3), (2, 3), (3, 4), (4, 5), (5, 6), (5, 7), (6, 8), (7, 8), (8, 9)]"
   ],
   "outputs": [],
   "execution_count": 8
  },
  {
   "metadata": {
    "ExecuteTime": {
     "end_time": "2024-11-12T20:38:39.733381Z",
     "start_time": "2024-11-12T20:38:39.730117Z"
    }
   },
   "cell_type": "code",
   "source": [
    "# Создание словаря, где ключом является id пользователя, а значением - список его друзей\n",
    "friendships = {user[\"id\"]: [] for user in users}\n",
    "\n",
    "# Заполнение словаря дружескими связями\n",
    "for i, j in friend_pairs:\n",
    "    friendships[i].append(j)\n",
    "    friendships[j].append(i)"
   ],
   "id": "6dada81544b46626",
   "outputs": [],
   "execution_count": 9
  },
  {
   "metadata": {
    "ExecuteTime": {
     "end_time": "2024-11-12T20:38:39.744347Z",
     "start_time": "2024-11-12T20:38:39.741324Z"
    }
   },
   "cell_type": "code",
   "source": [
    "def number_of_friends(user):\n",
    "    \"\"\"\n",
    "    Возвращает количество друзей у пользователя.\n",
    "    \n",
    "    :param user: словарь пользователя\n",
    "    :return: количество друзей\n",
    "    \"\"\"\n",
    "    user_id = user[\"id\"]\n",
    "    friend_ids = friendships[user_id]\n",
    "    return len(friend_ids)"
   ],
   "id": "ca4246351451841a",
   "outputs": [],
   "execution_count": 10
  },
  {
   "metadata": {
    "ExecuteTime": {
     "end_time": "2024-11-12T20:38:39.763299Z",
     "start_time": "2024-11-12T20:38:39.760697Z"
    }
   },
   "cell_type": "code",
   "source": [
    "# Подсчет общего количества друзей\n",
    "total_connections = sum(number_of_friends(user) for user in users)"
   ],
   "id": "9ae92cb6aa2a4d4e",
   "outputs": [],
   "execution_count": 11
  },
  {
   "metadata": {
    "ExecuteTime": {
     "end_time": "2024-11-12T20:38:39.780511Z",
     "start_time": "2024-11-12T20:38:39.777764Z"
    }
   },
   "cell_type": "code",
   "source": [
    "num_users = len(users)\n",
    "avg_connections = total_connections / num_users"
   ],
   "id": "53182790afae69eb",
   "outputs": [],
   "execution_count": 12
  },
  {
   "metadata": {
    "ExecuteTime": {
     "end_time": "2024-11-12T20:38:39.790029Z",
     "start_time": "2024-11-12T20:38:39.787018Z"
    }
   },
   "cell_type": "code",
   "source": [
    "# Создание списка кортежей из пар (id пользователя, кол-во его друзей)\n",
    "num_friends_by_id = [(user[\"id\"], number_of_friends(user)) for user in users]\n",
    "\n",
    "# Сортировка списка кортежей по значению в обратном порядке\n",
    "num_friends_by_id.sort(key=lambda x: x[1],  reverse=True)"
   ],
   "id": "445bad2a8ce31e84",
   "outputs": [],
   "execution_count": 13
  },
  {
   "metadata": {
    "ExecuteTime": {
     "end_time": "2024-11-12T20:40:02.675420Z",
     "start_time": "2024-11-12T20:40:02.667899Z"
    }
   },
   "cell_type": "code",
   "source": "friendships",
   "id": "b1d385685190b734",
   "outputs": [
    {
     "data": {
      "text/plain": [
       "{0: [1, 2],\n",
       " 1: [0, 3],\n",
       " 2: [0, 3],\n",
       " 3: [1, 2, 4],\n",
       " 4: [3, 5],\n",
       " 5: [4, 6, 7],\n",
       " 6: [5, 8],\n",
       " 7: [5, 8],\n",
       " 8: [6, 7, 9],\n",
       " 9: [8]}"
      ]
     },
     "execution_count": 18,
     "metadata": {},
     "output_type": "execute_result"
    }
   ],
   "execution_count": 18
  },
  {
   "metadata": {
    "ExecuteTime": {
     "end_time": "2024-11-12T20:38:39.799115Z",
     "start_time": "2024-11-12T20:38:39.795738Z"
    }
   },
   "cell_type": "code",
   "source": "num_friends_by_id",
   "id": "c454a734cdd985b8",
   "outputs": [
    {
     "data": {
      "text/plain": [
       "[(3, 3),\n",
       " (5, 3),\n",
       " (8, 3),\n",
       " (0, 2),\n",
       " (1, 2),\n",
       " (2, 2),\n",
       " (4, 2),\n",
       " (6, 2),\n",
       " (7, 2),\n",
       " (9, 1)]"
      ]
     },
     "execution_count": 14,
     "metadata": {},
     "output_type": "execute_result"
    }
   ],
   "execution_count": 14
  }
 ],
 "metadata": {
  "kernelspec": {
   "display_name": "Python 3",
   "language": "python",
   "name": "python3"
  },
  "language_info": {
   "codemirror_mode": {
    "name": "ipython",
    "version": 2
   },
   "file_extension": ".py",
   "mimetype": "text/x-python",
   "name": "python",
   "nbconvert_exporter": "python",
   "pygments_lexer": "ipython2",
   "version": "2.7.6"
  }
 },
 "nbformat": 4,
 "nbformat_minor": 5
}
