{
 "cells": [
  {
   "cell_type": "code",
   "id": "initial_id",
   "metadata": {
    "collapsed": true
   },
   "source": [
    "class Point:\n",
    "    def __init__(self, x, y, color='black'):\n",
    "        self.x = x\n",
    "        self.y = y\n",
    "        self.color = color\n",
    "\n",
    "# Создаем список для хранения объектов Point\n",
    "points = []\n",
    "\n",
    "# Генерируем 1000 объектов с заданным шагом координат\n",
    "for i in range(1000):\n",
    "    x = y = 1 + i * 2\n",
    "    color = 'yellow' if i == 1 else 'black'  # Второму объекту задаем цвет 'yellow'\n",
    "    points.append(Point(x, y, color))\n"
   ],
   "outputs": [],
   "execution_count": null
  }
 ],
 "metadata": {
  "kernelspec": {
   "display_name": "Python 3",
   "language": "python",
   "name": "python3"
  },
  "language_info": {
   "codemirror_mode": {
    "name": "ipython",
    "version": 2
   },
   "file_extension": ".py",
   "mimetype": "text/x-python",
   "name": "python",
   "nbconvert_exporter": "python",
   "pygments_lexer": "ipython2",
   "version": "2.7.6"
  }
 },
 "nbformat": 4,
 "nbformat_minor": 5
}
