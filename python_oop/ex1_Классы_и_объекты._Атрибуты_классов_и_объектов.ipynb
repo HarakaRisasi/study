{
 "cells": [
  {
   "metadata": {},
   "cell_type": "markdown",
   "source": [
    "Пример создания класса и объектов\n",
    "```python\n",
    "class Point:\n",
    "    color = 'red'  # атрибут класса\n",
    "    circle = 2     # атрибут класса\n",
    "\n",
    "    def __init__(self, x, y):\n",
    "        self.x = x  # атрибут объекта\n",
    "        self.y = y  # атрибут объекта\n",
    "```"
   ],
   "id": "5fdab81b121829f4"
  },
  {
   "metadata": {},
   "cell_type": "markdown",
   "source": [
    "Создание объекта:\n",
    "```python\n",
    "pt1 = Point(1, 2)\n",
    "pt2 = Point(10, 20)\n",
    "```"
   ],
   "id": "684c7d9cef6fe50c"
  },
  {
   "metadata": {},
   "cell_type": "markdown",
   "source": [
    "Значения атрибутов:\n",
    "```python\n",
    "print(pt1.x, pt1.y)  # 1, 2\n",
    "print(pt2.x, pt2.y)  # 10, 20\n",
    "```"
   ],
   "id": "25ec0b294d243869"
  },
  {
   "metadata": {},
   "cell_type": "markdown",
   "source": [
    "Атрибуты класса доступны через имя класса:\n",
    "```python\n",
    "print(Point.color)  # 'red'\n",
    "```"
   ],
   "id": "21d1e7e82c406591"
  },
  {
   "metadata": {},
   "cell_type": "markdown",
   "source": "#### Методы и параметр `self`",
   "id": "f816cf688c7eaeed"
  },
  {
   "metadata": {},
   "cell_type": "markdown",
   "source": [
    "Методы класса используют `self` для взаимодействия с объектом:\n",
    "```python\n",
    "class Point:\n",
    "    def set_coords(self, x, y):\n",
    "        self.x = x\n",
    "        self.y = y\n",
    "```"
   ],
   "id": "39509712a9fb0ae9"
  },
  {
   "metadata": {},
   "cell_type": "markdown",
   "source": [
    "Вызов метода через объект:\n",
    "```python\n",
    "pt = Point(0, 0)\n",
    "pt.set_coords(3, 4)\n",
    "print(pt.x, pt.y)  # 3, 4\n",
    "```"
   ],
   "id": "924048e68632944e"
  },
  {
   "metadata": {},
   "cell_type": "markdown",
   "source": "#### Инициализатор `__init__`",
   "id": "d1da482f21901ac"
  },
  {
   "metadata": {},
   "cell_type": "markdown",
   "source": [
    "Инициализатор задает начальные значения атрибутов объекта:\n",
    "```python\n",
    "class Point:\n",
    "    def __init__(self, x=0, y=0):\n",
    "        self.x = x\n",
    "        self.y = y\n",
    "```"
   ],
   "id": "ace1dd3c2ec5d8fe"
  },
  {
   "metadata": {},
   "cell_type": "markdown",
   "source": [
    "Пример создания объектов:\n",
    "```python\n",
    "pt1 = Point()       # x=0, y=0\n",
    "pt2 = Point(5, 10)  # x=5, y=10\n",
    "```"
   ],
   "id": "f06944ec5c2b90bc"
  },
  {
   "metadata": {},
   "cell_type": "markdown",
   "source": "#### Магические методы",
   "id": "543154314e8d582"
  },
  {
   "metadata": {},
   "cell_type": "markdown",
   "source": [
    "Магические методы управляют поведением объектов:\n",
    "- `__getattribute__`: вызывается при обращении к атрибутам.\n",
    "- `__setattr__`: вызывается при изменении атрибутов.\n",
    "- `__delattr__`: вызывается при удалении атрибутов."
   ],
   "id": "de3015d7f0fb205d"
  },
  {
   "metadata": {},
   "cell_type": "markdown",
   "source": [
    "Пример использования:  \n",
    "Этот код определяет класс ```Point```, в котором переопределен метод ```__setattr__```\n",
    "```python\n",
    "class Point:\n",
    "    def __setattr__(self, key, value):\n",
    "        if key == \"z\":\n",
    "            raise AttributeError(\"Нельзя добавлять атрибут 'z'\")\n",
    "        super().__setattr__(key, value)\n",
    "```"
   ],
   "id": "5045ae985fdc60ee"
  },
  {
   "metadata": {},
   "cell_type": "markdown",
   "source": [
    "Команда ```raise``` в Python используется для принудительного вызова исключения   \n",
    "Это может быть полезно, если мы столкнулись с условием,  \n",
    "которое должно остановить выполнение программы или вызвать ошибку. "
   ],
   "id": "98c3d57fc8927421"
  },
  {
   "metadata": {},
   "cell_type": "markdown",
   "source": [
    "### Тестовые задания\n",
    "1. Создайте класс `Rectangle` с атрибутами `width` и `height`. Добавьте метод для вычисления площади.\n",
    "2. Реализуйте класс `Circle` с атрибутами радиус и цвет. Добавьте метод, возвращающий длину окружности.\n",
    "3. Напишите класс с методом, который изменяет атрибут класса. Проверьте результат.\n",
    "4. Используйте магический метод `__setattr__` для запрета создания нового атрибута в объекте.\n",
    "5. Реализуйте инициализатор в классе `Point`, чтобы поддерживать создание объекта с различным количеством координат (x, y, z). \n",
    "\n",
    "Попробуйте решить задания самостоятельно и проверьте понимание темы!"
   ],
   "id": "109fcd293483dd08"
  },
  {
   "metadata": {},
   "cell_type": "code",
   "source": [
    "# Описание:\n",
    "# Класс Rectangle представляет прямоугольник с атрибутами height и width. \n",
    "# Метод area вычисляет площадь. Затем атрибут width изменяется с помощью функции setattr. \n",
    "# Обратите внимание, что изменение атрибута width класса не повлияет на ранее созданный объект.\n",
    "\n",
    "class Rectangle:\n",
    "    height = 100\n",
    "    width = 110\n",
    "    \n",
    "    def area(self):\n",
    "        return self.height * self.width\n",
    "    \n",
    "pt_1 = Rectangle()\n",
    "setattr(Rectangle,'width', 12)\n",
    "pt_1.area()"
   ],
   "id": "a5169e85092cbeda",
   "outputs": [],
   "execution_count": null
  },
  {
   "metadata": {},
   "cell_type": "code",
   "source": [
    "# Описание:\n",
    "# Класс RectangleCalc вычисляет и сохраняет площадь прямоугольника \n",
    "# при создании объекта через конструктор __init__.\n",
    "\n",
    "class RectangleCalc:\n",
    "    def __init__(self, width, height):\n",
    "        self.area = width * height\n",
    "\n",
    "\n",
    "pt_2 = RectangleCalc(12, 14)\n",
    "pt_2.area"
   ],
   "id": "9b9e1ccd7bd3e740",
   "outputs": [],
   "execution_count": null
  },
  {
   "metadata": {},
   "cell_type": "code",
   "source": [
    "# Описание:\n",
    "# Класс Circle описывает круг с атрибутами radius и color. \n",
    "# Метод area вычисляет площадь окружности. \n",
    "# Переопределение метода __setattr__ запрещает добавление или изменение атрибутов объекта.\n",
    "\n",
    "class Circle:\n",
    "    radius = 10\n",
    "    color = 'green'\n",
    "    \n",
    "    def area(self):\n",
    "        return round(2 * 3.14 * self.radius,1)\n",
    "    \n",
    "    def __setattr__(self, key, value):\n",
    "        if key:\n",
    "            raise AttributeError(\"Нельзя добавлять/изменять новые аттрибуты\")\n",
    "    \n",
    "pt_3 = Circle()\n",
    "\n",
    "pt_3.area()"
   ],
   "id": "303f5c24b17cf6ca",
   "outputs": [],
   "execution_count": null
  },
  {
   "metadata": {},
   "cell_type": "code",
   "source": [
    "# Описание:\n",
    "# Класс CircleEdit имеет защиту от добавления конкретного атрибута pi. \n",
    "# Попытка установить этот атрибут вызовет ошибку.\n",
    "\n",
    "class CircleEdit:\n",
    "    radius = 10\n",
    "    color = 'green'\n",
    "    \n",
    "    def area(self):\n",
    "        return round(2 * 3.14 * self.radius,1)\n",
    "    \n",
    "    def __setattr__(self, key, value):\n",
    "        if key == 'pi':\n",
    "            raise AttributeError(\"Нельзя добавить аттрибут pi\")\n",
    "        \n",
    "pt_4 = CircleEdit()\n",
    "\n",
    "pt_4.pi = 3.14"
   ],
   "id": "908f3a975666bc27",
   "outputs": [],
   "execution_count": null
  },
  {
   "metadata": {},
   "cell_type": "code",
   "source": [
    "# Описание:\n",
    "# Класс Point позволяет создавать объект с любым кол-вом координат, \n",
    "# хранящихся в виде множества (set), что исключает повторяющиеся значения.\n",
    "\n",
    "class Point:\n",
    "    def __init__(self, *coords):\n",
    "        self.coords = set([coord for coord in coords])\n",
    "\n",
    "pt_5 = Point(1, 2.4, 3, 3)\n",
    "\n",
    "pt_5.coords"
   ],
   "id": "207e920aa7879e1f",
   "outputs": [],
   "execution_count": null
  },
  {
   "metadata": {},
   "cell_type": "code",
   "source": [
    "# Описание:\n",
    "# Класс Car изначально пуст. \n",
    "# Через функцию setattr добавляются атрибуты классу. \n",
    "# Значение одного из атрибутов (color) выводится через __dict__.\n",
    "\n",
    "class Car:\n",
    "    pass\n",
    "\n",
    "setattr(Car, 'model', \"Тойота\")\n",
    "setattr(Car, 'color', \"Розовый\")\n",
    "setattr(Car, 'number', \"П111УУ77\")\n",
    "\n",
    "print(Car.__dict__['color'])"
   ],
   "id": "f94afadb5b75584f",
   "outputs": [],
   "execution_count": null
  },
  {
   "metadata": {},
   "cell_type": "code",
   "source": [
    "# Описание:\n",
    "# Класс Notes описывает заметки с несколькими статическими атрибутами. \n",
    "# Используется функция getattr для получения значения атрибута author.\n",
    "\n",
    "class Notes:\n",
    "    uid = 1005435\n",
    "    title = \"Шутка\"\n",
    "    author = \"И.С. Бах\"\n",
    "    pages = 2\n",
    "    \n",
    "print(getattr(Notes, 'author'))"
   ],
   "id": "c4b1b0687df62001",
   "outputs": [],
   "execution_count": null
  },
  {
   "metadata": {},
   "cell_type": "code",
   "source": [
    "# Описание:\n",
    "# Класс Dictionary представляет словарь с переводами. \n",
    "# Попытка получить несуществующий атрибут rus_word через getattr \n",
    "# возвращает значение по умолчанию (False).\n",
    "\n",
    "class Dictionary:\n",
    "    rus = \"Питон\"\n",
    "    eng = \"Python\"\n",
    "    \n",
    "print(getattr(Dictionary, 'rus_word', False))"
   ],
   "id": "3b1deab57b1a65f7",
   "outputs": [],
   "execution_count": null
  },
  {
   "metadata": {},
   "cell_type": "code",
   "source": [
    "# Описание:\n",
    "# Класс TravelBlog подсчитывает общее количество блогов через статический атрибут total_blogs. \n",
    "# Каждый блог (объект) имеет индивидуальные атрибуты name и days.\n",
    "\n",
    "class TravelBlog:\n",
    "    total_blogs = 0\n",
    "    \n",
    "tb1 = TravelBlog()\n",
    "tb1.name = 'Франция'\n",
    "tb1.days = 6\n",
    "TravelBlog.total_blogs += 1\n",
    "\n",
    "tb2 = TravelBlog()\n",
    "tb2.name = 'Италия'\n",
    "tb2.days = 5\n",
    "TravelBlog.total_blogs += 1\n",
    "\n",
    "print(getattr(TravelBlog, 'total_blogs', False))\n",
    "print(tb1.__dict__)\n",
    "print(tb2.__dict__)"
   ],
   "id": "2a55dcb0f0906c65",
   "outputs": [],
   "execution_count": null
  },
  {
   "metadata": {},
   "cell_type": "code",
   "source": [
    "# Описание:\n",
    "# Класс Figure имеет два атрибута. \n",
    "# Для объекта fig1 создаются локальные атрибуты. \n",
    "# Затем атрибут color удаляется через __delattr__.\n",
    "\n",
    "class Figure:\n",
    "    type_fig = 'ellipse'\n",
    "    color = 'red'\n",
    "    \n",
    "fig1 = Figure()\n",
    "fig1.start_pt = (10, 5)\n",
    "fig1.end_pt = (100, 20)\n",
    "fig1.color = 'blue'\n",
    "\n",
    "print(fig1.__dict__)\n",
    "\n",
    "fig1.__delattr__('color')\n",
    "\n",
    "print(*fig1.__dict__.keys())"
   ],
   "id": "6082f1c79eeda48",
   "outputs": [],
   "execution_count": null
  },
  {
   "metadata": {},
   "cell_type": "code",
   "source": [
    "# Описание:\n",
    "# Класс Person описывает человека с фиксированными атрибутами. \n",
    "# Используется функция hasattr для проверки наличия атрибута job.\n",
    "\n",
    "class Person:\n",
    "    name = 'Сергей Балакирев'\n",
    "    job = 'Программист'\n",
    "    city = 'Москва'\n",
    "\n",
    "print(hasattr(Person, 'job'))"
   ],
   "id": "d222dbbc8559ae4d",
   "outputs": [],
   "execution_count": null
  },
  {
   "metadata": {},
   "cell_type": "code",
   "source": [
    "# Описание:\n",
    "# Класс Person аналогичен предыдущему примеру, \n",
    "# но проверяется наличие локального атрибута job в объекте, \n",
    "# а не в самом классе.\n",
    "\n",
    "class Person:\n",
    "    name = 'Сергей Балакирев'\n",
    "    job = 'Программист'\n",
    "    city = 'Москва'\n",
    "    \n",
    "p1 = Person()\n",
    "\n",
    "# Проверям есть ли локальный атрибут у объекта класса Person\n",
    "print(hasattr(p1.__dict__, 'job'))"
   ],
   "id": "9b9fb8f44ea2d47d",
   "outputs": [],
   "execution_count": null
  },
  {
   "metadata": {},
   "cell_type": "code",
   "source": [
    "# Описание:\n",
    "# Класс Figures описывает фигуры с общими атрибутами. \n",
    "# Атрибут color выводится для объекта fig1.\n",
    "\n",
    "class Figures:\n",
    "    type = 'ellipse'\n",
    "    color = 'red'\n",
    "\n",
    "\n",
    "fig1 = Figures()\n",
    "print(fig1.color)"
   ],
   "id": "9ee230ae945e940f",
   "outputs": [],
   "execution_count": null
  },
  {
   "metadata": {},
   "cell_type": "code",
   "source": [
    "# Описание:\n",
    "# Удаление атрибута tp класса Point производится через \n",
    "# оператор del \n",
    "# и метод delattr.\n",
    "\n",
    "class Point:\n",
    "    tp = 1\n",
    "    \n",
    "del Point.tp\n",
    "print(hasattr(Point, 'tp'))\n",
    "\n",
    "\n",
    "class Point:\n",
    "    tp = 1\n",
    "\n",
    "delattr(Point, 'tp')\n",
    "print(hasattr(Point, 'tp'))\n"
   ],
   "id": "8379a9f82cf499a7",
   "outputs": [],
   "execution_count": null
  },
  {
   "metadata": {},
   "cell_type": "code",
   "source": [
    "# Описание:\n",
    "# Класс Magazine описывает журнал. \n",
    "# Попытка получить несуществующий атрибут id вызывает ошибку.\n",
    "\n",
    "class Magazine:\n",
    "    name = 'Наука и жизнь'\n",
    "    price = 1101\n",
    "    \n",
    "print(getattr(Magazine, 'id'))"
   ],
   "id": "ad26247df9fd3859",
   "outputs": [],
   "execution_count": null
  }
 ],
 "metadata": {
  "kernelspec": {
   "display_name": "Python 3",
   "language": "python",
   "name": "python3"
  },
  "language_info": {
   "codemirror_mode": {
    "name": "ipython",
    "version": 2
   },
   "file_extension": ".py",
   "mimetype": "text/x-python",
   "name": "python",
   "nbconvert_exporter": "python",
   "pygments_lexer": "ipython2",
   "version": "2.7.6"
  }
 },
 "nbformat": 4,
 "nbformat_minor": 5
}
