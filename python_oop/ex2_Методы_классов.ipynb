{
 "cells": [
  {
   "metadata": {},
   "cell_type": "markdown",
   "source": [
    "### Конспект по теме: Методы классов. Параметр `self`\n",
    "\n",
    "#### Основные понятия\n",
    "\n",
    "1. **Метод класса** — это функция, определенная внутри класса, которая определяет поведение объектов этого класса.  \n",
    "     Что называется методом класса? - Любая (не статическая) функция, объявленная внутри класса. \n",
    "\n",
    "2. **Параметр `self`** — это ссылка на объект (экземпляр) класса, из которого был вызван метод,  \n",
    "   передается первым аргументом в метод, чтобы получить доступ к атрибутам и другим методам объекта.  \n",
    "\n",
    "3. **Атрибуты** (attributes) — это переменные, которые хранят данные в объектах классов в Python.  \n",
    " У каждого объекта класса есть свой набор атрибутов, которые могут быть доступны для чтения и записи.  \n",
    " Что называют атрибутами класса? - Переменные и имена методов (ссылки на методы) класса.  \n",
    "\n",
    "#### Зачем нужен `self`?\n",
    "\n",
    "- Позволяет работать с атрибутами и методами конкретного объекта.\n",
    "- Гарантирует, что изменения будут применяться только к текущему экземпляру, а не ко всем объектам класса.\n",
    "\n",
    "#### Вопросы этой темы\n",
    "\n",
    "1. Как определяется простые методы класса?\n",
    "2. За что отвечает параметр self? \n",
    "3. Как происходит обращение к методам и их вызов?\n"
   ],
   "id": "219e23c8fa043998"
  },
  {
   "metadata": {},
   "cell_type": "markdown",
   "source": [
    "#### Пример: создание класса с использованием метода\n",
    "\n",
    "```python\n",
    "class Dog:\n",
    "    def __init__(self, name, breed):\n",
    "        # Атрибуты объекта\n",
    "        self.name = name\n",
    "        self.breed = breed\n",
    "\n",
    "    def bark(self):\n",
    "        # Метод объекта\n",
    "        return f\"{self.name} говорит: Гав!\"\n",
    "\n",
    "# Создание объектов класса Dog\n",
    "dog1 = Dog(\"Шарик\", \"Дворняга\")\n",
    "dog2 = Dog(\"Бобик\", \"Овчарка\")\n",
    "\n",
    "# Вызов метода\n",
    "print(dog1.bark())  # Шарик говорит: Гав!\n",
    "print(dog2.bark())  # Бобик говорит: Гав!\n",
    "```\n",
    "\n",
    "В этом примере `self` позволяет методу `bark` обращаться к атрибуту `name` конкретного объекта.\n"
   ],
   "id": "bfa01d70a523d01a"
  },
  {
   "metadata": {},
   "cell_type": "markdown",
   "source": [
    "#### Особенности параметра `self`\n",
    "\n",
    "1. **Обязателен в методах объекта**  \n",
    "Если не передать `self` как первый параметр, при вызове метода произойдет ошибка.\n",
    "   \n",
    "2. **Имя можно менять, но не рекомендуется**  \n",
    "Можно использовать другое имя вместо `self`, но это ухудшает читаемость кода.\n",
    "\n",
    "#### Пример с изменением атрибутов через `self`\n",
    "\n",
    "```python\n",
    "class Counter:\n",
    "    def __init__(self):\n",
    "        self.count = 0  # Инициализация атрибута объекта\n",
    "\n",
    "    def increment(self):\n",
    "        self.count += 1  # Увеличение значения атрибута count\n",
    "\n",
    "    def reset(self):\n",
    "        self.count = 0  # Сброс значения\n",
    "\n",
    "# Создание объекта и работа с методами\n",
    "counter = Counter()\n",
    "counter.increment()\n",
    "print(counter.count)  # 1\n",
    "counter.increment()\n",
    "print(counter.count)  # 2\n",
    "counter.reset()\n",
    "print(counter.count)  # 0\n",
    "```"
   ],
   "id": "ddaaedb6185d882f"
  },
  {
   "metadata": {},
   "cell_type": "markdown",
   "source": [
    "### Тестовые задания\n",
    "\n",
    "1. **Задача 1.** Создайте класс `Car`, который принимает в инициализаторе атрибуты `brand` и `model`.  \n",
    "   Добавьте метод `info`, который возвращает строку вида: \"Марка: `<brand>`, Модель: `<model>`\".  \n",
    "   Создайте объект и вызовите метод.  \n",
    "\n",
    "2. **Задача 2.** Напишите класс `BankAccount`, который имеет атрибут `balance` (начальное значение 0).  \n",
    "   Реализуйте методы `deposit(amount)` (добавляет деньги на счет) и `withdraw(amount)` (снимает деньги).  \n",
    "   Проверьте работу.  \n",
    "\n",
    "3. **Задача 3.** Создайте класс `Rectangle` с атрибутами ширины и высоты.  \n",
    "   Реализуйте метод `area`, который возвращает площадь прямоугольника.\n",
    "\n",
    "4. **Задача 4.** Напишите класс `Student`, который хранит имя студента и список его оценок.  \n",
    "   Добавьте метод `add_grade(grade)` для добавления оценки и `average_grade()` для подсчета среднего балла.\n",
    "\n",
    "5. **Задача 5.** Реализуйте класс `Person`, в котором есть атрибуты имени и возраста.  \n",
    "   Добавьте метод `is_adult()`, возвращающий `True`, если возраст 18 и более, и `False` в противном случае."
   ],
   "id": "e4172a8a1fb976f6"
  },
  {
   "metadata": {
    "ExecuteTime": {
     "end_time": "2024-12-01T19:25:54.151084Z",
     "start_time": "2024-12-01T19:25:54.143183Z"
    }
   },
   "cell_type": "code",
   "source": [
    "# Описание:  \n",
    "# Класс Car описывает автомобиль с атрибутами brand (марка) и model (модель).  \n",
    "# Метод info выводит информацию об автомобиле. Создается объект bmw и отображаются его данные.  \n",
    "\n",
    "class Car:\n",
    "    def __init__(self, brand, model):\n",
    "        self.brand = brand\n",
    "        self.model = model\n",
    "    \n",
    "    def info(self):\n",
    "        print(f\"Марка: {self.brand}, Модель: {self.model}\")\n",
    "        \n",
    "bmw = Car(\"BMW\", \"3-E90\")\n",
    "\n",
    "bmw.info()"
   ],
   "id": "3b20aa80abab4165",
   "outputs": [
    {
     "name": "stdout",
     "output_type": "stream",
     "text": [
      "Марка: BMW, Модель: 3-E90\n"
     ]
    }
   ],
   "execution_count": 1
  },
  {
   "metadata": {
    "ExecuteTime": {
     "end_time": "2024-12-01T19:40:06.205647Z",
     "start_time": "2024-12-01T19:40:06.196093Z"
    }
   },
   "cell_type": "code",
   "source": [
    "# Описание:\n",
    "# Класс BankAccount моделирует банковский счет с атрибутами balance (баланс) и bank_name (название банка).  \n",
    "# Методы deposit и withdraw позволяют вносить и снимать деньги со счета.  \n",
    "# Создается объект card, выполняются операции и выводится информация о счете.  \n",
    "\n",
    "class BankAccount:\n",
    "    def __init__(self, balance, bank_name):\n",
    "        self.balance = balance\n",
    "        self.bank_name = bank_name\n",
    "    \n",
    "    def deposit(self, amount):\n",
    "        self.balance += amount\n",
    "        \n",
    "    def withdraw(self, amount):\n",
    "        self.balance -= amount\n",
    "        \n",
    "card = BankAccount(179390, 'AlexaBank')\n",
    "\n",
    "card.deposit(100)\n",
    "card.withdraw(15000)\n",
    "\n",
    "print(f\"Bank {card.bank_name}\\nAccount: {card.balance}\")"
   ],
   "id": "f4652e5359eeb78e",
   "outputs": [
    {
     "name": "stdout",
     "output_type": "stream",
     "text": [
      "Bank AlexaBank\n",
      "Account: 164490\n"
     ]
    }
   ],
   "execution_count": 5
  },
  {
   "metadata": {
    "ExecuteTime": {
     "end_time": "2024-12-01T19:41:09.329462Z",
     "start_time": "2024-12-01T19:41:09.320130Z"
    }
   },
   "cell_type": "code",
   "source": [
    "# Описание:\n",
    "# Класс Rectangle моделирует прямоугольник с атрибутами width (ширина) и height (высота).  \n",
    "# Метод area вычисляет площадь. Создается объект rectangle, и вычисляется его площадь.  \n",
    "\n",
    "class Rectangle:\n",
    "    def __init__(self, width, height):\n",
    "        self.width = width\n",
    "        self.height = height\n",
    "    \n",
    "    def area(self):\n",
    "        return self.width * self.height\n",
    "    \n",
    "rectangle = Rectangle(100, 200)\n",
    "\n",
    "rectangle.area()"
   ],
   "id": "152dbd65b4d3f84a",
   "outputs": [
    {
     "data": {
      "text/plain": [
       "20000"
      ]
     },
     "execution_count": 6,
     "metadata": {},
     "output_type": "execute_result"
    }
   ],
   "execution_count": 6
  },
  {
   "metadata": {
    "ExecuteTime": {
     "end_time": "2024-12-01T19:53:25.171252Z",
     "start_time": "2024-12-01T19:53:25.163635Z"
    }
   },
   "cell_type": "code",
   "source": [
    "# Описание:\n",
    "# Класс Student моделирует студента с атрибутами name (имя) и grade (список оценок). \n",
    "# Методы позволяют добавлять оценку (add_grade) и рассчитывать среднюю оценку (average_grade). \n",
    "# Создается объект st_1, добавляется оценка, и вычисляется средний балл.\n",
    "\n",
    "class Student:\n",
    "    def __init__(self, name: str, grade: list): \n",
    "        self.name = name\n",
    "        self.grade = grade\n",
    "        \n",
    "    def add_grade(self, grade):\n",
    "        self.grade.append(grade)\n",
    "        \n",
    "    def average_grade(self, grade):\n",
    "        return round(sum(self.grade) / len(self.grade), 2)\n",
    "        \n",
    "st_1 = Student('Alex', [5, 5, 5, 4, 5])\n",
    "\n",
    "st_1.add_grade(5)\n",
    "\n",
    "st_1.average_grade(5)"
   ],
   "id": "4c9ead42cb5dcaed",
   "outputs": [
    {
     "data": {
      "text/plain": [
       "4.83"
      ]
     },
     "execution_count": 20,
     "metadata": {},
     "output_type": "execute_result"
    }
   ],
   "execution_count": 20
  },
  {
   "metadata": {
    "ExecuteTime": {
     "end_time": "2024-12-01T19:57:45.264432Z",
     "start_time": "2024-12-01T19:57:45.252837Z"
    }
   },
   "cell_type": "code",
   "source": [
    "# Описание:\n",
    "# Класс Person описывает человека с атрибутами name (имя) и age (возраст).  \n",
    "# Метод is_adult возвращает True, если возраст больше 18.  \n",
    "# Создается объект p_1, проверяется его взрослый статус.  \n",
    "\n",
    "class Person:\n",
    "    def __init__(self, name: str, age: int):\n",
    "        self.name = name\n",
    "        self.age = age\n",
    "    \n",
    "    def is_adult(self, age):\n",
    "        if age > 18:\n",
    "            return True\n",
    "        else:\n",
    "            return False\n",
    "        \n",
    "p_1 = Person('Alex', 35)\n",
    "\n",
    "p_1.is_adult(p_1.age)"
   ],
   "id": "7cb11c48d7d38bce",
   "outputs": [
    {
     "data": {
      "text/plain": [
       "True"
      ]
     },
     "execution_count": 27,
     "metadata": {},
     "output_type": "execute_result"
    }
   ],
   "execution_count": 27
  },
  {
   "metadata": {
    "ExecuteTime": {
     "end_time": "2024-12-01T20:32:21.428165Z",
     "start_time": "2024-12-01T20:32:21.421670Z"
    }
   },
   "cell_type": "code",
   "source": [
    "# Описание:\n",
    "# Класс MediaPlayer моделирует медиаплеер с атрибутом filename (имя текущего файла).  \n",
    "# Метод open задает имя файла, а метод play выводит сообщение о воспроизведении.  \n",
    "# Создаются два объекта media1 и media2, каждому присваивается файл, и выполняется их воспроизведение.  \n",
    "\n",
    "class MediaPlayer:\n",
    "    def __init__(self):\n",
    "        self.filename = None\n",
    "\n",
    "    def open(self, filename: str):\n",
    "        self.filename = filename\n",
    "        \n",
    "    def play(self, filename: str):\n",
    "        print(f\"Воспроизведение {filename}\")\n",
    "        \n",
    "   \n",
    "media1 = MediaPlayer()    \n",
    "media2 = MediaPlayer()\n",
    "\n",
    "media1.open(\"filemedia1\")\n",
    "media2.open(\"filemedia2\")\n",
    "\n",
    "media1.play(media1.filename)\n",
    "media2.play(media2.filename)\n"
   ],
   "id": "3b887b48462c9f87",
   "outputs": [
    {
     "name": "stdout",
     "output_type": "stream",
     "text": [
      "Воспроизведение filemedia1\n",
      "Воспроизведение filemedia2\n"
     ]
    }
   ],
   "execution_count": 32
  },
  {
   "metadata": {
    "ExecuteTime": {
     "end_time": "2024-12-01T20:59:04.672675Z",
     "start_time": "2024-12-01T20:59:04.651594Z"
    }
   },
   "cell_type": "code",
   "source": [
    "# Описание:\n",
    "# Класс Graph моделирует график с атрибутами data (данные) и LIMIT_Y (ограничения по оси Y).  \n",
    "# Метод set_data задает данные,  \n",
    "# а метод draw выводит только те точки, которые попадают в указанные пределы.  \n",
    "# Создается объект graph_1, задаются данные, и отображаются подходящие точки.  \n",
    "\n",
    "class Graph:\n",
    "    data = None\n",
    "    LIMIT_Y = [0, 10]\n",
    "\n",
    "    def set_data(self, data: list):\n",
    "        self.data = data\n",
    "        \n",
    "    def draw(self, data: list):\n",
    "        result_list = []\n",
    "        \n",
    "        for i in self.data:\n",
    "            if self.LIMIT_Y[0] <= i <= self.LIMIT_Y[1]:\n",
    "                result_list.append(i)\n",
    "        \n",
    "        print(*result_list)\n",
    "\n",
    "graph_1 = Graph()\n",
    "graph_1.set_data([10, -5, 100, 20, 0, 80, 45, 2, 5, 7])\n",
    "graph_1.draw(graph_1.data)\n"
   ],
   "id": "a7ccd2d55d4a20fe",
   "outputs": [
    {
     "name": "stdout",
     "output_type": "stream",
     "text": [
      "10 0 2 5 7\n"
     ]
    }
   ],
   "execution_count": 52
  },
  {
   "metadata": {
    "ExecuteTime": {
     "end_time": "2024-12-01T21:03:18.367796Z",
     "start_time": "2024-12-01T21:03:18.361824Z"
    }
   },
   "cell_type": "code",
   "source": [
    "class Stepik:\n",
    "    def next_task(self):\n",
    "        return \"Следующее задание\"\n",
    "\n",
    "my_st = Stepik()\n",
    "\n",
    "# Stepik.next_task(my_st)\n",
    "# my_st.next_task()"
   ],
   "id": "e6a2e80d9334586b",
   "outputs": [
    {
     "data": {
      "text/plain": [
       "'Следующее задание'"
      ]
     },
     "execution_count": 57,
     "metadata": {},
     "output_type": "execute_result"
    }
   ],
   "execution_count": 57
  }
 ],
 "metadata": {
  "kernelspec": {
   "display_name": "Python 3",
   "language": "python",
   "name": "python3"
  },
  "language_info": {
   "codemirror_mode": {
    "name": "ipython",
    "version": 2
   },
   "file_extension": ".py",
   "mimetype": "text/x-python",
   "name": "python",
   "nbconvert_exporter": "python",
   "pygments_lexer": "ipython2",
   "version": "2.7.6"
  }
 },
 "nbformat": 4,
 "nbformat_minor": 5
}
